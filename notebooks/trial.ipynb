{
 "cells": [
  {
   "cell_type": "code",
   "execution_count": 44,
   "metadata": {},
   "outputs": [],
   "source": [
    "# Imports\n",
    "import os\n",
    "from langchain.document_loaders import TextLoader, DirectoryLoader\n",
    "from langchain.embeddings import HuggingFaceEmbeddings\n",
    "from langchain.vectorstores import FAISS\n",
    "\n",
    "# os.environ[\"HUGGINGFACEHUB_API_TOKEN\"] = \"\""
   ]
  },
  {
   "cell_type": "code",
   "execution_count": 41,
   "metadata": {},
   "outputs": [
    {
     "data": {
      "text/plain": [
       "[Document(page_content='You will work with the various government agencies, land planners, architects and engineers on concept designs of construction projects. You will prepare project briefs and lead in the tender preparation to select and appoint project consultants and contractors, as well as coordinate and monitor their work. You are expected to identify potential construction related issues or contractual disputes, and effect appropriate solutions. You will lead in managing a multi-disciplinary team to ensure that the projects are delivered in a cost-effective and timely manner. Requirements: Background in Civil, M&E Engineering, Architecture with at least 5 years of relevant experience in building developments in developer, consultancy and contractor organisations. Having experience in public sector projects will be an advantage.', metadata={'source': 'c:\\\\Users\\\\weiha\\\\project\\\\job_search_helper\\\\notebooks\\\\..\\\\data\\\\jd_neg_1.txt'}),\n",
       " Document(page_content=\"Location The St. Regis Singapore, 29 Tanglin Road, Singapore, Singapore, Singapore VIEW ON MAP\\n\\nSchedule Full\\n\\n\\n\\nTime\\n\\nLocated Remotely? N\\n\\nRelocation? N\\n\\nPosition Type Non\\n\\n\\n\\nManagement\\n\\nPosition Summary\\n\\nRun sold room reports, verify room status, determine discrepant rooms, prioritize room cleaning, and update status of departing guest rooms. Assist Housekeeping management in managing daily activities. Act as a liaison to coordinate the efforts of Housekeeping, Engineering, Front Office, and Laundry. Document and resolve issues with discrepant rooms with the Front Desk. Prepare and distribute room assignments to Housekeeping staff. Record, monitor, and update list of ‘Do Not Disturb' rooms. Ensure that vacant dirty rooms are cleaned by the necessary time and assign rush rooms and rooms previously on the ‘Do Not Disturb' list. Complete required Housekeeping paperwork.\\n\\nFollow all company and safety and security policies and procedures; report any maintenance problems, safety hazards, accidents, or injuries; complete safety training and certifications. Ensure uniform and personal appearance are clean and professional; maintain confidentiality of proprietary information; protect company assets. Welcome and acknowledge all guests according to company standards; anticipate and address guests’ service needs; thank guests with genuine appreciation. Ensure adherence to quality expectations and standards. Develop and maintain positive working relationships with others; support team to reach common goals; listen and respond appropriately to the concerns of other employees. Speak with others using clear and professional language; prepare and review written documents accurately and completely. Enter and locate work-related information using computers. Stand, sit, or walk for an extended period of time. Move, lift, carry, push, pull, and place objects weighing less than or equal to 10 pounds without assistance. Perform other reasonable job duties as requested by Supervisors.\\n\\nMarriott International is an equal opportunity employer. We believe in hiring a diverse workforce and sustaining an inclusive, people-first culture. We are committed to non-discrimination on any protected basis, such as disability and veteran status, or any other basis covered under applicable law.\\n\\nThe St. Regis brand first established luxury hospitality more than 110 years ago, with the opening of the St. Regis New York. From the moment John Jacob Astor IV opened the doors of his Beaux-Arts masterpiece on New York’s Fifth Avenue, St. Regis has stood as a symbol of uncompromising elegance and bespoke service. Today, with more than 40 of the best addresses around the world, St. Regis is a place where trends are born, boundaries are broken and guests can simply live exquisite. We invite you to explore careers at St. Regis.\", metadata={'source': 'c:\\\\Users\\\\weiha\\\\project\\\\job_search_helper\\\\notebooks\\\\..\\\\data\\\\jd_neg_2.txt'}),\n",
       " Document(page_content=\"The Role\\n\\nWe are looking for a talented software engineer that has a deep understanding of Machine Learning and experience deploying models in production. Building a next-gen virtual assistant (for mobile, metaverse and automotive applications) that can understand complex utterances and speak new languages will be a big part of your role, along with designing and implementing a highly intuitive experience for our users.\\n\\nYou will have the role of improving MeetKai's ML capabilities across Search, NLU, Personalization and Online Learning. ML theoretical knowledge, while useful, is not as necessary as the ability to test and deploy models and large scale datasets. This is your opportunity to help usher a new era of human - computer interaction, and be part of our ambitious and dynamic team.\\n\\nResponsibilities\\n\\nDesign and train personalization models, providing insights towards innovative new approaches and features tailored to users in APAC, Europe and the Middle East Engineering Natural Language Processing and Speech components specific to your languages Using the power of large amount of data to tackle complex NLP and machine learning problems Develop processes for automatic deployment of ML models upon improvements and train deep learning models at scale Productionize trained models (potentially on edge)\\n\\nRequirements\\n\\n4+ years of experience with Python 2+ years of experience with Pytorch or Tensorflow Has worked in the industry for more than 1 year Demonstrated ability to write thoughtful, maintainable code under tight deadlines in a fast paced environment Proven ability of using creative approaches for solving complex problems Relevant project experience in Natural Language Processing, Machine Learning or related sub-fields\\n\\nNice to have\\n\\nBachelor's or Master's Degree in Computer Science, Information Systems or equivalent experience Experience with deploying ML models in the cloud or on edge devices Have experience with distributed queueing technologies like Kafka Experience with online learning algorithms and models Fluency in a 2nd language: Chinese, Indonesian, Arabic, Malay, Japanese, Korean, Hindi, Spanish, German, French, Italian\", metadata={'source': 'c:\\\\Users\\\\weiha\\\\project\\\\job_search_helper\\\\notebooks\\\\..\\\\data\\\\jd_pos_1.txt'}),\n",
       " Document(page_content='Mengaldo’s Laboratory is looking for a self-motivated, proactive and highly creative Research Engineer that will be working towards earning a PhD degree at NUS in dynamical system theory and machine learning for extreme weather forecasting applications. The ideal candidate should be skilled in coding, and software development, and be highly proficient in Python, large-scale spatio-temporal data analysis (ideally the ERA5 and other reanalysis datasets), dynamical system theory, reduced order modelling (including POD, SPOD and Autoencoders), natural language processing and neural networks. The project is in collaboration with ECMWF, Argonne National Laboratory (USA), CNRS (France), and University of Cambridge (United Kingdom), the latter starting from 2023. The primary objective of the project is to provide a fast computational framework for extended-range extreme weather forecasts, as well as quantify damage and develop mitigation strategies for extreme weather events. Qualifications Bachelor Degree in Computer Science, Applied Mathematics, Physics, Engineering, or related fields. Good problem-solving skills. Proficient in English writing and verbal communication skills. Coding and software development (Python, Tensorflow or Pytorch). Natural Language Processing. Neural networks. Large-scale spatio-temporal data analysis. Weather and climate. Covid-19 Message At NUS, the health and safety of our staff and students are one of our utmost priorities, and COVID-vaccination supports our commitment to ensure the safety of our community and to make NUS as safe and welcoming as possible. Many of our roles require a significant amount of physical interactions with students/staff/public members. Even for job roles that may be performed remotely, there will be instances where on-campus presence is required. Taking into consideration the health and well-being of our staff and students and to better protect everyone in the campus, applicants are strongly encouraged to have themselves fully COVID-19 vaccinated to secure successful employment with NUS. More Information Location: Kent Ridge Campus Organization: College of Design and Engineering Department : Mechanical Engineering Employee Referral Eligible: No Job requisition ID : 17415', metadata={'source': 'c:\\\\Users\\\\weiha\\\\project\\\\job_search_helper\\\\notebooks\\\\..\\\\data\\\\jd_pos_2.txt'})]"
      ]
     },
     "execution_count": 41,
     "metadata": {},
     "output_type": "execute_result"
    }
   ],
   "source": [
    "# Load jd text files into a list of documents\n",
    "data_folder = os.path.join(os.getcwd(), \"../data\")\n",
    "loader = DirectoryLoader(data_folder, glob=\"jd*.txt\")\n",
    "docs = loader.load()\n",
    "docs"
   ]
  },
  {
   "cell_type": "code",
   "execution_count": 45,
   "metadata": {},
   "outputs": [],
   "source": [
    "# Load HuggingFace embeddings\n",
    "embeddings = HuggingFaceEmbeddings()\n",
    "\n",
    "# Vectorize documents base on embeddings\n",
    "db = FAISS.from_documents(docs, embeddings)"
   ]
  },
  {
   "cell_type": "code",
   "execution_count": 65,
   "metadata": {},
   "outputs": [
    {
     "data": {
      "text/plain": [
       "'I am looking for a job in the field of data science'"
      ]
     },
     "execution_count": 65,
     "metadata": {},
     "output_type": "execute_result"
    }
   ],
   "source": [
    "# Load query\n",
    "# query = TextLoader(\"../data/query.txt\").load()[0].page_content\n",
    "query = \"I am looking for a job in the field of data science\"\n",
    "query"
   ]
  },
  {
   "cell_type": "code",
   "execution_count": 66,
   "metadata": {},
   "outputs": [],
   "source": [
    "docs = db.similarity_search(query, k=2)"
   ]
  },
  {
   "cell_type": "code",
   "execution_count": 67,
   "metadata": {},
   "outputs": [
    {
     "data": {
      "text/plain": [
       "[Document(page_content='Mengaldo’s Laboratory is looking for a self-motivated, proactive and highly creative Research Engineer that will be working towards earning a PhD degree at NUS in dynamical system theory and machine learning for extreme weather forecasting applications. The ideal candidate should be skilled in coding, and software development, and be highly proficient in Python, large-scale spatio-temporal data analysis (ideally the ERA5 and other reanalysis datasets), dynamical system theory, reduced order modelling (including POD, SPOD and Autoencoders), natural language processing and neural networks. The project is in collaboration with ECMWF, Argonne National Laboratory (USA), CNRS (France), and University of Cambridge (United Kingdom), the latter starting from 2023. The primary objective of the project is to provide a fast computational framework for extended-range extreme weather forecasts, as well as quantify damage and develop mitigation strategies for extreme weather events. Qualifications Bachelor Degree in Computer Science, Applied Mathematics, Physics, Engineering, or related fields. Good problem-solving skills. Proficient in English writing and verbal communication skills. Coding and software development (Python, Tensorflow or Pytorch). Natural Language Processing. Neural networks. Large-scale spatio-temporal data analysis. Weather and climate. Covid-19 Message At NUS, the health and safety of our staff and students are one of our utmost priorities, and COVID-vaccination supports our commitment to ensure the safety of our community and to make NUS as safe and welcoming as possible. Many of our roles require a significant amount of physical interactions with students/staff/public members. Even for job roles that may be performed remotely, there will be instances where on-campus presence is required. Taking into consideration the health and well-being of our staff and students and to better protect everyone in the campus, applicants are strongly encouraged to have themselves fully COVID-19 vaccinated to secure successful employment with NUS. More Information Location: Kent Ridge Campus Organization: College of Design and Engineering Department : Mechanical Engineering Employee Referral Eligible: No Job requisition ID : 17415', metadata={'source': 'c:\\\\Users\\\\weiha\\\\project\\\\job_search_helper\\\\notebooks\\\\..\\\\data\\\\jd_pos_2.txt'}),\n",
       " Document(page_content=\"The Role\\n\\nWe are looking for a talented software engineer that has a deep understanding of Machine Learning and experience deploying models in production. Building a next-gen virtual assistant (for mobile, metaverse and automotive applications) that can understand complex utterances and speak new languages will be a big part of your role, along with designing and implementing a highly intuitive experience for our users.\\n\\nYou will have the role of improving MeetKai's ML capabilities across Search, NLU, Personalization and Online Learning. ML theoretical knowledge, while useful, is not as necessary as the ability to test and deploy models and large scale datasets. This is your opportunity to help usher a new era of human - computer interaction, and be part of our ambitious and dynamic team.\\n\\nResponsibilities\\n\\nDesign and train personalization models, providing insights towards innovative new approaches and features tailored to users in APAC, Europe and the Middle East Engineering Natural Language Processing and Speech components specific to your languages Using the power of large amount of data to tackle complex NLP and machine learning problems Develop processes for automatic deployment of ML models upon improvements and train deep learning models at scale Productionize trained models (potentially on edge)\\n\\nRequirements\\n\\n4+ years of experience with Python 2+ years of experience with Pytorch or Tensorflow Has worked in the industry for more than 1 year Demonstrated ability to write thoughtful, maintainable code under tight deadlines in a fast paced environment Proven ability of using creative approaches for solving complex problems Relevant project experience in Natural Language Processing, Machine Learning or related sub-fields\\n\\nNice to have\\n\\nBachelor's or Master's Degree in Computer Science, Information Systems or equivalent experience Experience with deploying ML models in the cloud or on edge devices Have experience with distributed queueing technologies like Kafka Experience with online learning algorithms and models Fluency in a 2nd language: Chinese, Indonesian, Arabic, Malay, Japanese, Korean, Hindi, Spanish, German, French, Italian\", metadata={'source': 'c:\\\\Users\\\\weiha\\\\project\\\\job_search_helper\\\\notebooks\\\\..\\\\data\\\\jd_pos_1.txt'})]"
      ]
     },
     "execution_count": 67,
     "metadata": {},
     "output_type": "execute_result"
    }
   ],
   "source": [
    "docs"
   ]
  },
  {
   "cell_type": "code",
   "execution_count": null,
   "metadata": {},
   "outputs": [],
   "source": []
  }
 ],
 "metadata": {
  "kernelspec": {
   "display_name": "job_helper",
   "language": "python",
   "name": "python3"
  },
  "language_info": {
   "codemirror_mode": {
    "name": "ipython",
    "version": 3
   },
   "file_extension": ".py",
   "mimetype": "text/x-python",
   "name": "python",
   "nbconvert_exporter": "python",
   "pygments_lexer": "ipython3",
   "version": "3.9.16"
  },
  "orig_nbformat": 4
 },
 "nbformat": 4,
 "nbformat_minor": 2
}
